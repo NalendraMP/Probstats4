{
 "cells": [
  {
   "cell_type": "code",
   "execution_count": 1,
   "id": "4a376f69",
   "metadata": {},
   "outputs": [
    {
     "name": "stdout",
     "output_type": "stream",
     "text": [
      "Probabilitas P(X=K) untuk distribusi binomial : 0.1171875\n"
     ]
    }
   ],
   "source": [
    "import math\n",
    "\n",
    "#Fungsi untuk menghitung kombinasi (n chooose k)\n",
    "def n_choose_k(n, k):\n",
    "    return math.factorial(n) / (math.factorial(k) * math.factorial(n - k))\n",
    "\n",
    "# fungsi untuk menghitung probabilitas P(x=k) dalam distribusi binomial\n",
    "def binomial_probability(n, k, p):\n",
    "    return n_choose_k(n, k) * (p ** k) * ((1 -p) ** (n - k))\n",
    "\n",
    "#Parameter distribusi binomial\n",
    "n = 10  #Jumlah percobaan\n",
    "p = 0.5 # probabilitas keberhasilan dalam satu percobaan\n",
    "k = 3 # jumlah keberhasilan yang diinginkan \n",
    "\n",
    "# menghitung probabilitas P(X=K) untuk distribusi binomial\n",
    "prob_binomial = binomial_probability(n, k ,p)\n",
    "print(\"Probabilitas P(X=K) untuk distribusi binomial :\", prob_binomial)"
   ]
  },
  {
   "cell_type": "code",
   "execution_count": 2,
   "id": "7428d1ca",
   "metadata": {},
   "outputs": [
    {
     "name": "stdout",
     "output_type": "stream",
     "text": [
      "Probabilitas P(X=K) untuk distribusi binomial : 0.1171875\n"
     ]
    }
   ],
   "source": [
    "from scipy.stats import binom\n",
    "\n",
    "#Distribusi Binomial\n",
    "n = 10 #Jumlah percobaan\n",
    "p = 0.5 # probabilitas keberhasilan dalam satu percobaan\n",
    "k = 3 # jumlah keberhasilan yang diinginkan \n",
    "\n",
    "prob_binomial = binom.pmf(k, n, p)\n",
    "print(\"Probabilitas P(X=K) untuk distribusi binomial :\", prob_binomial)"
   ]
  },
  {
   "cell_type": "code",
   "execution_count": 4,
   "id": "0c975686",
   "metadata": {},
   "outputs": [
    {
     "name": "stdout",
     "output_type": "stream",
     "text": [
      "Probabilitas P(X=K) untuk distribusi Poisson : 0.22404180765538775\n"
     ]
    }
   ],
   "source": [
    "import math \n",
    "\n",
    "#Fungsi untuk menghitung probabilitas P(X=K) dalam distribusi Poisson\n",
    "def poisson_probability(lambd, k):\n",
    "    return (lambd ** k) * math.exp(-lambd) / math.factorial(k)\n",
    "\n",
    "#Parameter distribusi poisson\n",
    "lambd = 3 #rata-rata jumlah peristiwa dalam interval waktu/titik\n",
    "k = 2 # jumlah peristiwa yang diinginkan\n",
    "\n",
    "# Menghitung probabilitas P(X=K) untuk distribusi Poisson\n",
    "prob_poisson = poisson_probability(lambd, k)\n",
    "print(\"Probabilitas P(X=K) untuk distribusi Poisson :\", prob_poisson)"
   ]
  },
  {
   "cell_type": "code",
   "execution_count": 5,
   "id": "5be4d36c",
   "metadata": {},
   "outputs": [
    {
     "name": "stdout",
     "output_type": "stream",
     "text": [
      "Probabilitas P(X=K) untuk distribusi Poisson : 0.22404180765538775\n"
     ]
    }
   ],
   "source": [
    "from scipy.stats import poisson\n",
    "\n",
    "#Distribusi Poisson\n",
    "lambd = 3 #rata-rata jumlah peristiwa dalam interval waktu/titik\n",
    "k = 2 # jumlah peristiwa yang diinginkan\n",
    "\n",
    "prob_poisson = poisson_probability(lambd, k)\n",
    "print(\"Probabilitas P(X=K) untuk distribusi Poisson :\", prob_poisson)"
   ]
  },
  {
   "cell_type": "code",
   "execution_count": 8,
   "id": "df306230",
   "metadata": {},
   "outputs": [
    {
     "name": "stdout",
     "output_type": "stream",
     "text": [
      "0.1285054390988551\n"
     ]
    }
   ],
   "source": [
    "from scipy import stats\n",
    "X = stats.binom(15, 0.1)\n",
    "print(X.pmf(3))             #P(X =3)"
   ]
  },
  {
   "cell_type": "code",
   "execution_count": 9,
   "id": "c4dc72e4",
   "metadata": {},
   "outputs": [
    {
     "name": "stdout",
     "output_type": "stream",
     "text": [
      "0.8159389308936089\n"
     ]
    }
   ],
   "source": [
    "print(x.cdf(2))  #P(X <= 2)"
   ]
  },
  {
   "cell_type": "code",
   "execution_count": 10,
   "id": "04f09c82",
   "metadata": {},
   "outputs": [
    {
     "name": "stdout",
     "output_type": "stream",
     "text": [
      "0.002216045197080002\n"
     ]
    }
   ],
   "source": [
    "print(X.pmf(6)+X.pmf(7))"
   ]
  },
  {
   "cell_type": "code",
   "execution_count": 11,
   "id": "235e690a",
   "metadata": {},
   "outputs": [
    {
     "name": "stdout",
     "output_type": "stream",
     "text": [
      "0.17546736976785063\n"
     ]
    }
   ],
   "source": [
    "from scipy import stats\n",
    "Y = stats.poisson(5)\n",
    "print(Y.pmf(4))   #P(Y = 4)"
   ]
  },
  {
   "cell_type": "code",
   "execution_count": 12,
   "id": "9a44e0a1",
   "metadata": {},
   "outputs": [
    {
     "name": "stdout",
     "output_type": "stream",
     "text": [
      "0.17886305056987967\n"
     ]
    }
   ],
   "source": [
    "from scipy import stats\n",
    "\n",
    "#Mendefinisikan variable X sebagai distribusi binomial dengan 15 percobaan dan probabilitas sukses 0.1\n",
    "X = stats.binom(20, 0.7)\n",
    "\n",
    "#Menghitung probabilitas massa X sama dengan 3\n",
    "pmf_15 = X.pmf(15)\n",
    "\n",
    "#Mencetak nilai probabilitas\n",
    "print(pmf_15)"
   ]
  },
  {
   "cell_type": "code",
   "execution_count": 13,
   "id": "f6dc0019",
   "metadata": {},
   "outputs": [
    {
     "name": "stdout",
     "output_type": "stream",
     "text": [
      "0.18044704431548356\n"
     ]
    }
   ],
   "source": [
    "from scipy import stats\n",
    "Y = stats.poisson(2)\n",
    "\n",
    "print(Y.pmf(3))    #\\(P(Y=3))"
   ]
  },
  {
   "cell_type": "code",
   "execution_count": 15,
   "id": "9266c959",
   "metadata": {},
   "outputs": [
    {
     "name": "stdout",
     "output_type": "stream",
     "text": [
      "0.20613038097752093\n"
     ]
    }
   ],
   "source": [
    "from scipy import stats\n",
    "\n",
    "#Mendefinisikan variable X sebagai distribusi binomial dengan 15 percobaan dan probabilitas sukses 0.1\n",
    "X = stats.binom(15, 0.3)\n",
    "\n",
    "#Menghitung probabilitas massa X sama dengan 3\n",
    "pmf_15 = X.pmf(5)\n",
    "\n",
    "#Mencetak nilai probabilitas\n",
    "print(pmf_15)"
   ]
  },
  {
   "cell_type": "code",
   "execution_count": null,
   "id": "76de456e",
   "metadata": {},
   "outputs": [],
   "source": []
  }
 ],
 "metadata": {
  "kernelspec": {
   "display_name": "Python 3 (ipykernel)",
   "language": "python",
   "name": "python3"
  },
  "language_info": {
   "codemirror_mode": {
    "name": "ipython",
    "version": 3
   },
   "file_extension": ".py",
   "mimetype": "text/x-python",
   "name": "python",
   "nbconvert_exporter": "python",
   "pygments_lexer": "ipython3",
   "version": "3.11.4"
  }
 },
 "nbformat": 4,
 "nbformat_minor": 5
}
